{
  "cells": [
    {
      "cell_type": "markdown",
      "metadata": {
        "id": "UePBO09X7ht4"
      },
      "source": [
        "João Vitor Simão Pinheiro"
      ]
    },
    {
      "cell_type": "markdown",
      "metadata": {
        "id": "7X-pPXm1ERpi"
      },
      "source": [
        "# Questão 1"
      ]
    },
    {
      "cell_type": "code",
      "execution_count": 1,
      "metadata": {
        "colab": {
          "base_uri": "https://localhost:8080/"
        },
        "id": "rlxOdmMXEY1y",
        "outputId": "9e5ee830-e0f8-43a8-fd81-f97fe463720b"
      },
      "outputs": [
        {
          "name": "stdout",
          "output_type": "stream",
          "text": [
            "         *\n",
            "        ***\n",
            "       *****\n",
            "      *******\n",
            "     *********\n",
            "    ***********\n",
            "   *************\n",
            "  ***************\n",
            " *****************\n",
            "*******************\n"
          ]
        }
      ],
      "source": [
        "def criarArvore(tamanho):\n",
        "  #roda linha por linha até o tamanho da árvore\n",
        "  for n in range(tamanho):\n",
        "    #define quantos espaços terá esse linha \n",
        "    espacos= tamanho-1-n\n",
        "    #define quantos asterisco terá essa linha\n",
        "    asteriscos=(n*2)+1\n",
        "    #mostra os espaços mais os asteriscos tem na linha \n",
        "    print(\" \"*espacos + \"*\"*asteriscos)\n",
        "#input para escolha o tamanho da arvore\n",
        "arvore=int(input(\"escolhao o tamanho da árvore:\"))\n",
        "criarArvore(arvore)"
      ]
    },
    {
      "cell_type": "markdown",
      "metadata": {
        "id": "f-pXDHgYEdUd"
      },
      "source": [
        "# Questão 2"
      ]
    },
    {
      "cell_type": "code",
      "execution_count": 2,
      "metadata": {
        "colab": {
          "base_uri": "https://localhost:8080/"
        },
        "id": "R5kLZVTTj6Hi",
        "outputId": "7bb4e452-cf54-4a78-825b-e08962ce8a2b"
      },
      "outputs": [
        {
          "name": "stdout",
          "output_type": "stream",
          "text": [
            "[ 65  ][ 64  ][ 63  ][ 62  ][ 61  ][ 60  ][ 59  ][ 58  ][ 57  ]\n",
            "[ 66  ][ 37  ][ 36  ][ 35  ][ 34  ][ 33  ][ 32  ][ 31  ][ 56  ]\n",
            "[ 67  ][ 38  ][ 17  ][ 16  ][ 15  ][ 14  ][ 13  ][ 30  ][ 55  ]\n",
            "[ 68  ][ 39  ][ 18  ][  5  ][  4  ][  3  ][ 12  ][ 29  ][ 54  ]\n",
            "[ 69  ][ 40  ][ 19  ][  6  ][  1  ][  2  ][ 11  ][ 28  ][ 53  ]\n",
            "[ 70  ][ 41  ][ 20  ][  7  ][  8  ][  9  ][ 10  ][ 27  ][ 52  ]\n",
            "[ 71  ][ 42  ][ 21  ][ 22  ][ 23  ][ 24  ][ 25  ][ 26  ][ 51  ]\n",
            "[ 72  ][ 43  ][ 44  ][ 45  ][ 46  ][ 47  ][ 48  ][ 49  ][ 50  ]\n",
            "[ 73  ][ 74  ][ 75  ][ 76  ][ 77  ][ 78  ][ 79  ][ 80  ][ 81  ]\n"
          ]
        }
      ],
      "source": [
        "#essa função roda de dentro pra fora na forma de um espiral na matriz\n",
        "def espiral(tamanho):\n",
        "  #define o tamanho da matrix\n",
        "  num=tamanho+tamanho-1\n",
        "  #cria a matrix com o tamanho desejado\n",
        "  matriz = [[0 for x in range(num)]for y in range(num)]\n",
        "  #essa variavel é o número de vezes que cada for dentro do for abaixo vai rodar\n",
        "  p=1\n",
        "  #essa variavel é o valor a ser colocado em cada elemento da matriz\n",
        "  n=2\n",
        "  #essas duas variaveis serão a linha e a coluna de matriz para colocar os números em cada elemento por vez\n",
        "  c=l=tamanho-1\n",
        "  #define que o elemento central da matriz é 1, pois o for não vai colocar ele\n",
        "  matriz[l][c]=1\n",
        "  #vai rodar o número de voltas que dará na matriz\n",
        "  for i in range(tamanho-1):\n",
        "    #primeiro para a direita\n",
        "    for a in range(p):\n",
        "      c+=1\n",
        "      matriz[l][c]=n\n",
        "      n+=1\n",
        "    #para cima\n",
        "    for a in range(p):\n",
        "      l-=1\n",
        "      matriz[l][c]=n\n",
        "      n+=1\n",
        "    #para esquerda\n",
        "    for a in range(p+1):\n",
        "      c-=1\n",
        "      matriz[l][c]=n\n",
        "      n+=1\n",
        "    #para baixo\n",
        "    for a in range(p+1):\n",
        "      l+=1\n",
        "      matriz[l][c]=n\n",
        "      n+=1\n",
        "    p+=2\n",
        "  #essa variavel é o número de vezes que vai andar para a direita no final\n",
        "  #pois o 'for' para a direita precisa sempra rodar uma vez a mais\n",
        "  f=(tamanho*2)-2\n",
        "  #rodando uma ultima vez o 'for' para a direita\n",
        "  for a in range(f):\n",
        "    c+=1\n",
        "    matriz[l][c]=n\n",
        "    n+=1\n",
        "  #mostrando a matriz com cada elemento formatado de forma que a matriz não fique confusa na tela\n",
        "  for t in range(num):\n",
        "    for r in range(num):\n",
        "      print(f'[{matriz[t][r]:^5}]',end='')\n",
        "    print()\n",
        "#input para escolher tamanho da matriz espiral\n",
        "matriz_espiral=int(input(\"escolha o tamanho da matriz espiral:\"))\n",
        "espiral(matriz_espiral)"
      ]
    },
    {
      "cell_type": "markdown",
      "metadata": {
        "id": "9e_l_kcAEkUX"
      },
      "source": [
        "# questão 3"
      ]
    },
    {
      "cell_type": "code",
      "execution_count": 3,
      "metadata": {
        "colab": {
          "base_uri": "https://localhost:8080/"
        },
        "id": "yInFaaJOKFhH",
        "outputId": "49117912-979d-4855-acaf-d611dbb72eb7"
      },
      "outputs": [
        {
          "name": "stdout",
          "output_type": "stream",
          "text": [
            "[1, 1, 2, 3, 5, 8]\n"
          ]
        }
      ],
      "source": [
        "lista=[]\n",
        "def fibonacci(t1,t2,limite):\n",
        "  #soma os 2 valores\n",
        "  t3=t1+t2\n",
        "  #salva 't1' em uma lista\n",
        "  lista.append(t1)\n",
        "  #verifica se atingiu o limite desejado da sequencia\n",
        "  if t3 >= limite:\n",
        "    lista.append(t2)\n",
        "    #se atingiu mostra o ultimo valor da sequencia de fibonacci antes do limite\n",
        "    print(lista)\n",
        "  #se não continua a sequencia\n",
        "  else:\n",
        "    t1=t2\n",
        "    t2=t3\n",
        "    #retorna a função\n",
        "    return fibonacci(t1,t2,limite)\n",
        "    sequencia=\"\".join(lista)\n",
        "    print(sequencia)\n",
        "#input para escolher o limite da sequência de fibonacci\n",
        "limite=int(input(\"escolha o limite da sequencia de fibonacci:\"))\n",
        "fibonacci(1,1,limite)"
      ]
    },
    {
      "cell_type": "markdown",
      "metadata": {
        "id": "jOjSNabOEqrP"
      },
      "source": [
        "# Questão 4"
      ]
    },
    {
      "cell_type": "code",
      "execution_count": 4,
      "metadata": {
        "colab": {
          "base_uri": "https://localhost:8080/"
        },
        "id": "XIDjmrXtQgBq",
        "outputId": "9f5bb45c-29c9-4164-dbe0-a60580af37c6"
      },
      "outputs": [
        {
          "name": "stdout",
          "output_type": "stream",
          "text": [
            "[1, 2, 5]\n"
          ]
        }
      ],
      "source": [
        "def vetor_ordenado(vetor):\n",
        "  #ordena o vetor\n",
        "  vet=sorted(vetor)\n",
        "  #mostra o vetor ordenado\n",
        "  print(vet)\n",
        "#escolhe o tamanho da lista\n",
        "tamanho=int(input(\"escolha o tamanho da lista:\"))\n",
        "#cria a lista com o tamanho escolhido\n",
        "lista = [0 for x in range(tamanho)]\n",
        "#escolhe os números a serem ordenados\n",
        "for x in range(tamanho):\n",
        "  lista[x]=int(input(\"escolha um número por vez:\"))\n",
        "vetor_ordenado(lista)"
      ]
    },
    {
      "cell_type": "markdown",
      "metadata": {
        "id": "10X0hqSgEuxt"
      },
      "source": [
        "# Questão 5"
      ]
    },
    {
      "cell_type": "code",
      "execution_count": 5,
      "metadata": {
        "colab": {
          "base_uri": "https://localhost:8080/"
        },
        "id": "C2k9U4rHSLek",
        "outputId": "5f610dce-c830-4aca-c17a-05ec10f490be"
      },
      "outputs": [
        {
          "name": "stdout",
          "output_type": "stream",
          "text": [
            "rasta, c. \n"
          ]
        }
      ],
      "source": [
        "def assinatura(nome):\n",
        "  #quebra o nome em formato de lista\n",
        "  assinando=nome.split()\n",
        "  #cria outra lista para organizar a ordem dos nomes\n",
        "  nomes=[]\n",
        "  #adciona o ultimo nome na lista pois ele vai ficar inteiro\n",
        "  nomes.append(assinando[(len(assinando)-1)])\n",
        "  nomes.append(\", \")\n",
        "  #para cada nome e sobrenome, exceto o ultimo, adciona a inicial na lista 'nomes'\n",
        "  for i in range((len(assinando)-1)):\n",
        "    temp=assinando[i]\n",
        "    #verifica se essa parte do nome não é as palavras: \"de\",\"da\", ou palavras parecida a serem ignoradas\n",
        "    if len(temp) > 2:\n",
        "      #se a palavra não foi ignorada, adciona a inicial na lista 'nomes'\n",
        "      nomes.append(temp[0])\n",
        "      nomes.append(\". \")\n",
        "  #transforma a lista em uma string\n",
        "  assinado=\"\".join(nomes)\n",
        "  #mostra o resultado\n",
        "  print(assinado)\n",
        "#input para colocar o nome\n",
        "nome=str(input(\"escreva o nome a ser abreviado:\"))\n",
        "assinatura(nome)"
      ]
    },
    {
      "cell_type": "markdown",
      "metadata": {
        "id": "xkKPRM7HEyzQ"
      },
      "source": [
        "# Questão 6"
      ]
    },
    {
      "cell_type": "code",
      "execution_count": 6,
      "metadata": {
        "colab": {
          "base_uri": "https://localhost:8080/"
        },
        "id": "1qlVIc-tSL3U",
        "outputId": "e0172dea-32c3-4609-adf3-e3d88c057925"
      },
      "outputs": [
        {
          "name": "stdout",
          "output_type": "stream",
          "text": [
            "9\n"
          ]
        }
      ],
      "source": [
        "def qtd_digitos(numero):\n",
        "  #transforma o numero em string\n",
        "  digitos=str(numero)\n",
        "  #verifica o tamanho da string\n",
        "  tamanho_numero=len(digitos)\n",
        "  #mostra o tamanho da string\n",
        "  print(tamanho_numero)\n",
        "#input para digitar o número\n",
        "num=int(input(\"digite um número:\"))\n",
        "qtd_digitos(num)"
      ]
    },
    {
      "cell_type": "markdown",
      "metadata": {
        "id": "K3A06V20E2hK"
      },
      "source": [
        "# Questão 7"
      ]
    },
    {
      "cell_type": "code",
      "execution_count": 14,
      "metadata": {
        "colab": {
          "base_uri": "https://localhost:8080/"
        },
        "id": "PZY3b-PoSRCX",
        "outputId": "8239ede9-16ff-47a2-81f2-a25c9e867ece"
      },
      "outputs": [
        {
          "name": "stdout",
          "output_type": "stream",
          "text": [
            "2 de maio de 0000\n"
          ]
        }
      ],
      "source": [
        "def data(date):\n",
        "  #quebra a data em formato de lista\n",
        "  dd_mm_aaaa=date.split(\"/\")\n",
        "  #salva os meses em uma outra lista\n",
        "  meses=['janeiro','fevereiro','março','abril','maio','junho','julho','agosto','setembro','outubro','novembro','dezembro']\n",
        "  #verifica se a data tem dia, mês e ano; nada mais e nem menos.\n",
        "  if len(dd_mm_aaaa) != 3:\n",
        "    print('null')\n",
        "    print(len(dd_mm_aaaa))\n",
        "  #valida os dias\n",
        "  elif len(dd_mm_aaaa[0])>2 or int(dd_mm_aaaa[0])>30 or int(dd_mm_aaaa[0])<=0:\n",
        "    print('null')\n",
        "  #valida o mês\n",
        "  elif len(dd_mm_aaaa[1])>2 or int(dd_mm_aaaa[1])>12 or int(dd_mm_aaaa[1])<=0:\n",
        "    print('null')\n",
        "  #valida o ano\n",
        "  elif len(dd_mm_aaaa[2])!=4 or int(dd_mm_aaaa[2])>2022:\n",
        "    print('null')\n",
        "  #se estiver tudo certo transforma o mês em mês por extenso\n",
        "  else:\n",
        "    n=int(dd_mm_aaaa[1])-1\n",
        "    t=meses[n]\n",
        "    dd_mm_aaaa[1]=t\n",
        "    data_formatada=\" de \".join(dd_mm_aaaa)\n",
        "    #mostra a data formatada\n",
        "    print(data_formatada)\n",
        "#input para digitar a data\n",
        "dt=str(input(\"escreva uma data no formato DD/MM/AAAA:\"))\n",
        "data(dt)"
      ]
    },
    {
      "cell_type": "markdown",
      "metadata": {
        "id": "70qi2v-FE6f_"
      },
      "source": [
        "# Questão 8"
      ]
    },
    {
      "cell_type": "code",
      "execution_count": 1,
      "metadata": {
        "colab": {
          "base_uri": "https://localhost:8080/"
        },
        "id": "PBRN58BVVXJ-",
        "outputId": "544675d2-b1a5-465b-ba62-3aec1e82bc0d"
      },
      "outputs": [
        {
          "name": "stdout",
          "output_type": "stream",
          "text": [
            "[2, 3, 5, 7, 11, 13, 17, 19, 23, 29, 31, 37, 41, 43, 47, 49, 53, 59, 61, 67]\n"
          ]
        }
      ],
      "source": [
        "def num_primos(qtd):\n",
        "  #criando uma lista com o tamanho pedido.\n",
        "  matriz = [0 for x in range(qtd)]\n",
        "  #verifica se a lista é maior que 0 e coloca o 2 no primeiro índice.\n",
        "  if len(matriz)>0:\n",
        "    matriz[0]=2\n",
        "  #verifica se a lista é maior que 1 e coloca o 3 no segundo índice.\n",
        "  if len(matriz)>1:\n",
        "    matriz[1]=3\n",
        "  #verifica se a lista é maior que 2 e coloca o 5 no terceiro índice.\n",
        "  if len(matriz)>2:\n",
        "    matriz[2]=5\n",
        "  #se a lista for maior ainda maior ela será completada até o ultimo índice.\n",
        "    j=2\n",
        "    t=3\n",
        "  while matriz[len(matriz)-1]==0:\n",
        "    j=j+1\n",
        "    if not j%3==0 and not j%5==0 and not j%2==0:\n",
        "      matriz[t]=j\n",
        "      t+=1\n",
        "  #mostra a lista com a quantidade de números pedidos.\n",
        "  print(matriz)\n",
        "#input para digitar a quantidade de números primos\n",
        "n_p=int(input(\"digite quantos números primos quer:\"))\n",
        "num_primos(n_p)"
      ]
    },
    {
      "cell_type": "markdown",
      "metadata": {
        "id": "z7fRd7xhFDxF"
      },
      "source": [
        "# Questão 9"
      ]
    },
    {
      "cell_type": "code",
      "execution_count": 10,
      "metadata": {
        "colab": {
          "base_uri": "https://localhost:8080/"
        },
        "id": "QOxmqXEDxahc",
        "outputId": "4e9b3f04-5fc3-410d-8d71-0c144cb5bf72"
      },
      "outputs": [
        {
          "name": "stdout",
          "output_type": "stream",
          "text": [
            "['a', 'a', 'f', 'l'] ['a', 'a', 'f', 'l']\n",
            "as palavras são anagramas\n"
          ]
        }
      ],
      "source": [
        "def anagramas(string1,string2):\n",
        "  #espaços a direita e a esqueda são retirados.\n",
        "  string01=string1.strip()\n",
        "  string02=string2.strip()\n",
        "  #as string são organizadas em uma lista.\n",
        "  ord_string1=sorted(string01)\n",
        "  ord_string2=sorted(string02)\n",
        "  print(ord_string1,ord_string2)\n",
        "  #verifica se as palavras são anagramas\n",
        "  if ord_string1==ord_string2:\n",
        "    print(\"as palavras são anagramas\")\n",
        "  #caso não é enviado um aviso\n",
        "  else:\n",
        "    print(\"as palavras são anagramas\")\n",
        "#inputs para digitar as palavras\n",
        "string01=str(input(\"digite a primeira palavra:\"))\n",
        "string02=str(input(\"digite a segunda palavra:\"))\n",
        "anagramas(string01,string02)"
      ]
    }
  ],
  "metadata": {
    "colab": {
      "collapsed_sections": [],
      "provenance": []
    },
    "kernelspec": {
      "display_name": "Python 3.10.8 64-bit (microsoft store)",
      "language": "python",
      "name": "python3"
    },
    "language_info": {
      "codemirror_mode": {
        "name": "ipython",
        "version": 3
      },
      "file_extension": ".py",
      "mimetype": "text/x-python",
      "name": "python",
      "nbconvert_exporter": "python",
      "pygments_lexer": "ipython3",
      "version": "3.10.8"
    },
    "vscode": {
      "interpreter": {
        "hash": "26439590156e02b2a96c71cc646b409d91b84a5fb7f3f6838302d15b4158ee08"
      }
    }
  },
  "nbformat": 4,
  "nbformat_minor": 0
}
